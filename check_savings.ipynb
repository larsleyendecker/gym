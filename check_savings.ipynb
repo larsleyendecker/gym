{
 "cells": [
  {
   "cell_type": "code",
   "execution_count": 13,
   "metadata": {},
   "outputs": [],
   "source": [
    "import gym\n",
    "import pandas\n",
    "import numpy"
   ]
  },
  {
   "cell_type": "code",
   "execution_count": 2,
   "metadata": {},
   "outputs": [
    {
     "name": "stdout",
     "output_type": "stream",
     "text": [
      "<module 'gym' from '/home/lars/DRL_AI4RoMoCo/code/environment/gym/gym/__init__.py'>\n"
     ]
    }
   ],
   "source": [
    "print(gym)"
   ]
  },
  {
   "cell_type": "code",
   "execution_count": 3,
   "metadata": {},
   "outputs": [
    {
     "name": "stderr",
     "output_type": "stream",
     "text": [
      "/home/lars/DRL_AI4RoMoCo/code/environment/gym/gym/logger.py:30: UserWarning: \u001b[33mWARN: Box bound precision lowered by casting to float32\u001b[0m\n",
      "  warnings.warn(colorize('%s: %s'%('WARN', msg % args), 'yellow'))\n"
     ]
    }
   ],
   "source": [
    "env = gym.make(\"Ur10Heg-v7\")"
   ]
  },
  {
   "cell_type": "code",
   "execution_count": 4,
   "metadata": {},
   "outputs": [
    {
     "data": {
      "text/plain": [
       "array([ 0.57243453, -0.83605904,  1.17575472])"
      ]
     },
     "execution_count": 4,
     "metadata": {},
     "output_type": "execute_result"
    }
   ],
   "source": [
    "env.sim.data.get_body_xpos(\"gripper_dummy_heg\")"
   ]
  },
  {
   "cell_type": "code",
   "execution_count": 5,
   "metadata": {},
   "outputs": [
    {
     "data": {
      "text/plain": [
       "array([[-1.00000000e+00,  6.35274710e-22,  3.67320510e-06],\n",
       "       [ 3.67320510e-06,  3.33066907e-16,  1.00000000e+00],\n",
       "       [-6.35274710e-22,  1.00000000e+00, -3.33066907e-16]])"
      ]
     },
     "execution_count": 5,
     "metadata": {},
     "output_type": "execute_result"
    }
   ],
   "source": [
    "env.sim.data.get_body_xmat(\"gripper_dummy_heg\")"
   ]
  },
  {
   "cell_type": "code",
   "execution_count": 15,
   "metadata": {},
   "outputs": [],
   "source": [
    "positions = []\n",
    "vector = numpy.array([6,6,6])"
   ]
  },
  {
   "cell_type": "code",
   "execution_count": 17,
   "metadata": {},
   "outputs": [],
   "source": [
    "for i in range(10):\n",
    "    positions.append(numpy.concatenate([env.sim.data.get_body_xpos(\"gripper_dummy_heg\"), vector]))"
   ]
  },
  {
   "cell_type": "code",
   "execution_count": 18,
   "metadata": {},
   "outputs": [
    {
     "data": {
      "text/plain": [
       "[array([ 0.57243453, -0.83605904,  1.17575472,  6.        ,  6.        ,\n",
       "         6.        ]),\n",
       " array([ 0.57243453, -0.83605904,  1.17575472,  6.        ,  6.        ,\n",
       "         6.        ]),\n",
       " array([ 0.57243453, -0.83605904,  1.17575472,  6.        ,  6.        ,\n",
       "         6.        ]),\n",
       " array([ 0.57243453, -0.83605904,  1.17575472,  6.        ,  6.        ,\n",
       "         6.        ]),\n",
       " array([ 0.57243453, -0.83605904,  1.17575472,  6.        ,  6.        ,\n",
       "         6.        ]),\n",
       " array([ 0.57243453, -0.83605904,  1.17575472,  6.        ,  6.        ,\n",
       "         6.        ]),\n",
       " array([ 0.57243453, -0.83605904,  1.17575472,  6.        ,  6.        ,\n",
       "         6.        ]),\n",
       " array([ 0.57243453, -0.83605904,  1.17575472,  6.        ,  6.        ,\n",
       "         6.        ]),\n",
       " array([ 0.57243453, -0.83605904,  1.17575472,  6.        ,  6.        ,\n",
       "         6.        ]),\n",
       " array([ 0.57243453, -0.83605904,  1.17575472,  6.        ,  6.        ,\n",
       "         6.        ])]"
      ]
     },
     "execution_count": 18,
     "metadata": {},
     "output_type": "execute_result"
    }
   ],
   "source": [
    "positions"
   ]
  },
  {
   "cell_type": "code",
   "execution_count": 19,
   "metadata": {},
   "outputs": [],
   "source": [
    "pos_df = pandas.DataFrame(positions)"
   ]
  },
  {
   "cell_type": "code",
   "execution_count": 20,
   "metadata": {},
   "outputs": [
    {
     "data": {
      "text/html": [
       "<div>\n",
       "<style scoped>\n",
       "    .dataframe tbody tr th:only-of-type {\n",
       "        vertical-align: middle;\n",
       "    }\n",
       "\n",
       "    .dataframe tbody tr th {\n",
       "        vertical-align: top;\n",
       "    }\n",
       "\n",
       "    .dataframe thead th {\n",
       "        text-align: right;\n",
       "    }\n",
       "</style>\n",
       "<table border=\"1\" class=\"dataframe\">\n",
       "  <thead>\n",
       "    <tr style=\"text-align: right;\">\n",
       "      <th></th>\n",
       "      <th>0</th>\n",
       "      <th>1</th>\n",
       "      <th>2</th>\n",
       "      <th>3</th>\n",
       "      <th>4</th>\n",
       "      <th>5</th>\n",
       "    </tr>\n",
       "  </thead>\n",
       "  <tbody>\n",
       "    <tr>\n",
       "      <th>0</th>\n",
       "      <td>0.572435</td>\n",
       "      <td>-0.836059</td>\n",
       "      <td>1.175755</td>\n",
       "      <td>6.0</td>\n",
       "      <td>6.0</td>\n",
       "      <td>6.0</td>\n",
       "    </tr>\n",
       "    <tr>\n",
       "      <th>1</th>\n",
       "      <td>0.572435</td>\n",
       "      <td>-0.836059</td>\n",
       "      <td>1.175755</td>\n",
       "      <td>6.0</td>\n",
       "      <td>6.0</td>\n",
       "      <td>6.0</td>\n",
       "    </tr>\n",
       "    <tr>\n",
       "      <th>2</th>\n",
       "      <td>0.572435</td>\n",
       "      <td>-0.836059</td>\n",
       "      <td>1.175755</td>\n",
       "      <td>6.0</td>\n",
       "      <td>6.0</td>\n",
       "      <td>6.0</td>\n",
       "    </tr>\n",
       "    <tr>\n",
       "      <th>3</th>\n",
       "      <td>0.572435</td>\n",
       "      <td>-0.836059</td>\n",
       "      <td>1.175755</td>\n",
       "      <td>6.0</td>\n",
       "      <td>6.0</td>\n",
       "      <td>6.0</td>\n",
       "    </tr>\n",
       "    <tr>\n",
       "      <th>4</th>\n",
       "      <td>0.572435</td>\n",
       "      <td>-0.836059</td>\n",
       "      <td>1.175755</td>\n",
       "      <td>6.0</td>\n",
       "      <td>6.0</td>\n",
       "      <td>6.0</td>\n",
       "    </tr>\n",
       "    <tr>\n",
       "      <th>5</th>\n",
       "      <td>0.572435</td>\n",
       "      <td>-0.836059</td>\n",
       "      <td>1.175755</td>\n",
       "      <td>6.0</td>\n",
       "      <td>6.0</td>\n",
       "      <td>6.0</td>\n",
       "    </tr>\n",
       "    <tr>\n",
       "      <th>6</th>\n",
       "      <td>0.572435</td>\n",
       "      <td>-0.836059</td>\n",
       "      <td>1.175755</td>\n",
       "      <td>6.0</td>\n",
       "      <td>6.0</td>\n",
       "      <td>6.0</td>\n",
       "    </tr>\n",
       "    <tr>\n",
       "      <th>7</th>\n",
       "      <td>0.572435</td>\n",
       "      <td>-0.836059</td>\n",
       "      <td>1.175755</td>\n",
       "      <td>6.0</td>\n",
       "      <td>6.0</td>\n",
       "      <td>6.0</td>\n",
       "    </tr>\n",
       "    <tr>\n",
       "      <th>8</th>\n",
       "      <td>0.572435</td>\n",
       "      <td>-0.836059</td>\n",
       "      <td>1.175755</td>\n",
       "      <td>6.0</td>\n",
       "      <td>6.0</td>\n",
       "      <td>6.0</td>\n",
       "    </tr>\n",
       "    <tr>\n",
       "      <th>9</th>\n",
       "      <td>0.572435</td>\n",
       "      <td>-0.836059</td>\n",
       "      <td>1.175755</td>\n",
       "      <td>6.0</td>\n",
       "      <td>6.0</td>\n",
       "      <td>6.0</td>\n",
       "    </tr>\n",
       "  </tbody>\n",
       "</table>\n",
       "</div>"
      ],
      "text/plain": [
       "          0         1         2    3    4    5\n",
       "0  0.572435 -0.836059  1.175755  6.0  6.0  6.0\n",
       "1  0.572435 -0.836059  1.175755  6.0  6.0  6.0\n",
       "2  0.572435 -0.836059  1.175755  6.0  6.0  6.0\n",
       "3  0.572435 -0.836059  1.175755  6.0  6.0  6.0\n",
       "4  0.572435 -0.836059  1.175755  6.0  6.0  6.0\n",
       "5  0.572435 -0.836059  1.175755  6.0  6.0  6.0\n",
       "6  0.572435 -0.836059  1.175755  6.0  6.0  6.0\n",
       "7  0.572435 -0.836059  1.175755  6.0  6.0  6.0\n",
       "8  0.572435 -0.836059  1.175755  6.0  6.0  6.0\n",
       "9  0.572435 -0.836059  1.175755  6.0  6.0  6.0"
      ]
     },
     "execution_count": 20,
     "metadata": {},
     "output_type": "execute_result"
    }
   ],
   "source": [
    "pos_df"
   ]
  },
  {
   "cell_type": "code",
   "execution_count": null,
   "metadata": {},
   "outputs": [],
   "source": []
  }
 ],
 "metadata": {
  "kernelspec": {
   "display_name": "Python 3",
   "language": "python",
   "name": "python3"
  },
  "language_info": {
   "codemirror_mode": {
    "name": "ipython",
    "version": 3
   },
   "file_extension": ".py",
   "mimetype": "text/x-python",
   "name": "python",
   "nbconvert_exporter": "python",
   "pygments_lexer": "ipython3",
   "version": "3.6.9"
  }
 },
 "nbformat": 4,
 "nbformat_minor": 4
}
